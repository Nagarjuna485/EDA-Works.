{
 "cells": [
  {
   "cell_type": "code",
   "execution_count": 1,
   "metadata": {},
   "outputs": [],
   "source": [
    "import numpy as np\n",
    "import pandas as pd\n"
   ]
  },
  {
   "cell_type": "code",
   "execution_count": 2,
   "metadata": {},
   "outputs": [],
   "source": [
    "data = pd.read_csv(\".......\Iris.csv\")"
   ]
  },
  {
   "cell_type": "code",
   "execution_count": 3,
   "metadata": {},
   "outputs": [
    {
     "data": {
      "text/html": [
       "<div>\n",
       "<style scoped>\n",
       "    .dataframe tbody tr th:only-of-type {\n",
       "        vertical-align: middle;\n",
       "    }\n",
       "\n",
       "    .dataframe tbody tr th {\n",
       "        vertical-align: top;\n",
       "    }\n",
       "\n",
       "    .dataframe thead th {\n",
       "        text-align: right;\n",
       "    }\n",
       "</style>\n",
       "<table border=\"1\" class=\"dataframe\">\n",
       "  <thead>\n",
       "    <tr style=\"text-align: right;\">\n",
       "      <th></th>\n",
       "      <th>Id</th>\n",
       "      <th>SepalLengthCm</th>\n",
       "      <th>SepalWidthCm</th>\n",
       "      <th>PetalLengthCm</th>\n",
       "      <th>PetalWidthCm</th>\n",
       "      <th>Species</th>\n",
       "    </tr>\n",
       "  </thead>\n",
       "  <tbody>\n",
       "    <tr>\n",
       "      <td>0</td>\n",
       "      <td>1</td>\n",
       "      <td>5.1</td>\n",
       "      <td>3.5</td>\n",
       "      <td>1.4</td>\n",
       "      <td>0.2</td>\n",
       "      <td>Iris-setosa</td>\n",
       "    </tr>\n",
       "    <tr>\n",
       "      <td>1</td>\n",
       "      <td>2</td>\n",
       "      <td>4.9</td>\n",
       "      <td>3.0</td>\n",
       "      <td>1.4</td>\n",
       "      <td>0.2</td>\n",
       "      <td>Iris-setosa</td>\n",
       "    </tr>\n",
       "    <tr>\n",
       "      <td>2</td>\n",
       "      <td>3</td>\n",
       "      <td>4.7</td>\n",
       "      <td>3.2</td>\n",
       "      <td>1.3</td>\n",
       "      <td>0.2</td>\n",
       "      <td>Iris-setosa</td>\n",
       "    </tr>\n",
       "    <tr>\n",
       "      <td>3</td>\n",
       "      <td>4</td>\n",
       "      <td>4.6</td>\n",
       "      <td>3.1</td>\n",
       "      <td>1.5</td>\n",
       "      <td>0.2</td>\n",
       "      <td>Iris-setosa</td>\n",
       "    </tr>\n",
       "    <tr>\n",
       "      <td>4</td>\n",
       "      <td>5</td>\n",
       "      <td>5.0</td>\n",
       "      <td>3.6</td>\n",
       "      <td>1.4</td>\n",
       "      <td>0.2</td>\n",
       "      <td>Iris-setosa</td>\n",
       "    </tr>\n",
       "    <tr>\n",
       "      <td>...</td>\n",
       "      <td>...</td>\n",
       "      <td>...</td>\n",
       "      <td>...</td>\n",
       "      <td>...</td>\n",
       "      <td>...</td>\n",
       "      <td>...</td>\n",
       "    </tr>\n",
       "    <tr>\n",
       "      <td>145</td>\n",
       "      <td>146</td>\n",
       "      <td>6.7</td>\n",
       "      <td>3.0</td>\n",
       "      <td>5.2</td>\n",
       "      <td>2.3</td>\n",
       "      <td>Iris-virginica</td>\n",
       "    </tr>\n",
       "    <tr>\n",
       "      <td>146</td>\n",
       "      <td>147</td>\n",
       "      <td>6.3</td>\n",
       "      <td>2.5</td>\n",
       "      <td>5.0</td>\n",
       "      <td>1.9</td>\n",
       "      <td>Iris-virginica</td>\n",
       "    </tr>\n",
       "    <tr>\n",
       "      <td>147</td>\n",
       "      <td>148</td>\n",
       "      <td>6.5</td>\n",
       "      <td>3.0</td>\n",
       "      <td>5.2</td>\n",
       "      <td>2.0</td>\n",
       "      <td>Iris-virginica</td>\n",
       "    </tr>\n",
       "    <tr>\n",
       "      <td>148</td>\n",
       "      <td>149</td>\n",
       "      <td>6.2</td>\n",
       "      <td>3.4</td>\n",
       "      <td>5.4</td>\n",
       "      <td>2.3</td>\n",
       "      <td>Iris-virginica</td>\n",
       "    </tr>\n",
       "    <tr>\n",
       "      <td>149</td>\n",
       "      <td>150</td>\n",
       "      <td>5.9</td>\n",
       "      <td>3.0</td>\n",
       "      <td>5.1</td>\n",
       "      <td>1.8</td>\n",
       "      <td>Iris-virginica</td>\n",
       "    </tr>\n",
       "  </tbody>\n",
       "</table>\n",
       "<p>150 rows × 6 columns</p>\n",
       "</div>"
      ],
      "text/plain": [
       "      Id  SepalLengthCm  SepalWidthCm  PetalLengthCm  PetalWidthCm  \\\n",
       "0      1            5.1           3.5            1.4           0.2   \n",
       "1      2            4.9           3.0            1.4           0.2   \n",
       "2      3            4.7           3.2            1.3           0.2   \n",
       "3      4            4.6           3.1            1.5           0.2   \n",
       "4      5            5.0           3.6            1.4           0.2   \n",
       "..   ...            ...           ...            ...           ...   \n",
       "145  146            6.7           3.0            5.2           2.3   \n",
       "146  147            6.3           2.5            5.0           1.9   \n",
       "147  148            6.5           3.0            5.2           2.0   \n",
       "148  149            6.2           3.4            5.4           2.3   \n",
       "149  150            5.9           3.0            5.1           1.8   \n",
       "\n",
       "            Species  \n",
       "0       Iris-setosa  \n",
       "1       Iris-setosa  \n",
       "2       Iris-setosa  \n",
       "3       Iris-setosa  \n",
       "4       Iris-setosa  \n",
       "..              ...  \n",
       "145  Iris-virginica  \n",
       "146  Iris-virginica  \n",
       "147  Iris-virginica  \n",
       "148  Iris-virginica  \n",
       "149  Iris-virginica  \n",
       "\n",
       "[150 rows x 6 columns]"
      ]
     },
     "execution_count": 3,
     "metadata": {},
     "output_type": "execute_result"
    }
   ],
   "source": [
    "data"
   ]
  },
  {
   "cell_type": "code",
   "execution_count": 4,
   "metadata": {},
   "outputs": [
    {
     "data": {
      "text/plain": [
       "Id               0\n",
       "SepalLengthCm    0\n",
       "SepalWidthCm     0\n",
       "PetalLengthCm    0\n",
       "PetalWidthCm     0\n",
       "Species          0\n",
       "dtype: int64"
      ]
     },
     "execution_count": 4,
     "metadata": {},
     "output_type": "execute_result"
    }
   ],
   "source": [
    "data.isnull().sum()"
   ]
  },
  {
   "cell_type": "code",
   "execution_count": 5,
   "metadata": {},
   "outputs": [
    {
     "data": {
      "text/plain": [
       "Iris-versicolor    50\n",
       "Iris-virginica     50\n",
       "Iris-setosa        50\n",
       "Name: Species, dtype: int64"
      ]
     },
     "execution_count": 5,
     "metadata": {},
     "output_type": "execute_result"
    }
   ],
   "source": [
    "data.Species.value_counts()"
   ]
  },
  {
   "cell_type": "code",
   "execution_count": 6,
   "metadata": {},
   "outputs": [],
   "source": [
    "data[\"Species\"] = data['Species'].replace('Iris-versicolor',1)\n",
    "data[\"Species\"] = data['Species'].replace('Iris-setosa',2)\n",
    "data[\"Species\"] = data['Species'].replace('Iris-virginica',3)\n"
   ]
  },
  {
   "cell_type": "code",
   "execution_count": 7,
   "metadata": {},
   "outputs": [
    {
     "data": {
      "text/plain": [
       "3    50\n",
       "2    50\n",
       "1    50\n",
       "Name: Species, dtype: int64"
      ]
     },
     "execution_count": 7,
     "metadata": {},
     "output_type": "execute_result"
    }
   ],
   "source": [
    "data.Species.value_counts()"
   ]
  },
  {
   "cell_type": "code",
   "execution_count": 8,
   "metadata": {},
   "outputs": [
    {
     "data": {
      "text/html": [
       "<div>\n",
       "<style scoped>\n",
       "    .dataframe tbody tr th:only-of-type {\n",
       "        vertical-align: middle;\n",
       "    }\n",
       "\n",
       "    .dataframe tbody tr th {\n",
       "        vertical-align: top;\n",
       "    }\n",
       "\n",
       "    .dataframe thead th {\n",
       "        text-align: right;\n",
       "    }\n",
       "</style>\n",
       "<table border=\"1\" class=\"dataframe\">\n",
       "  <thead>\n",
       "    <tr style=\"text-align: right;\">\n",
       "      <th></th>\n",
       "      <th>Id</th>\n",
       "      <th>SepalLengthCm</th>\n",
       "      <th>SepalWidthCm</th>\n",
       "      <th>PetalLengthCm</th>\n",
       "      <th>PetalWidthCm</th>\n",
       "      <th>Species</th>\n",
       "    </tr>\n",
       "  </thead>\n",
       "  <tbody>\n",
       "    <tr>\n",
       "      <td>0</td>\n",
       "      <td>1</td>\n",
       "      <td>5.1</td>\n",
       "      <td>3.5</td>\n",
       "      <td>1.4</td>\n",
       "      <td>0.2</td>\n",
       "      <td>2</td>\n",
       "    </tr>\n",
       "    <tr>\n",
       "      <td>1</td>\n",
       "      <td>2</td>\n",
       "      <td>4.9</td>\n",
       "      <td>3.0</td>\n",
       "      <td>1.4</td>\n",
       "      <td>0.2</td>\n",
       "      <td>2</td>\n",
       "    </tr>\n",
       "    <tr>\n",
       "      <td>2</td>\n",
       "      <td>3</td>\n",
       "      <td>4.7</td>\n",
       "      <td>3.2</td>\n",
       "      <td>1.3</td>\n",
       "      <td>0.2</td>\n",
       "      <td>2</td>\n",
       "    </tr>\n",
       "    <tr>\n",
       "      <td>3</td>\n",
       "      <td>4</td>\n",
       "      <td>4.6</td>\n",
       "      <td>3.1</td>\n",
       "      <td>1.5</td>\n",
       "      <td>0.2</td>\n",
       "      <td>2</td>\n",
       "    </tr>\n",
       "    <tr>\n",
       "      <td>4</td>\n",
       "      <td>5</td>\n",
       "      <td>5.0</td>\n",
       "      <td>3.6</td>\n",
       "      <td>1.4</td>\n",
       "      <td>0.2</td>\n",
       "      <td>2</td>\n",
       "    </tr>\n",
       "    <tr>\n",
       "      <td>...</td>\n",
       "      <td>...</td>\n",
       "      <td>...</td>\n",
       "      <td>...</td>\n",
       "      <td>...</td>\n",
       "      <td>...</td>\n",
       "      <td>...</td>\n",
       "    </tr>\n",
       "    <tr>\n",
       "      <td>145</td>\n",
       "      <td>146</td>\n",
       "      <td>6.7</td>\n",
       "      <td>3.0</td>\n",
       "      <td>5.2</td>\n",
       "      <td>2.3</td>\n",
       "      <td>3</td>\n",
       "    </tr>\n",
       "    <tr>\n",
       "      <td>146</td>\n",
       "      <td>147</td>\n",
       "      <td>6.3</td>\n",
       "      <td>2.5</td>\n",
       "      <td>5.0</td>\n",
       "      <td>1.9</td>\n",
       "      <td>3</td>\n",
       "    </tr>\n",
       "    <tr>\n",
       "      <td>147</td>\n",
       "      <td>148</td>\n",
       "      <td>6.5</td>\n",
       "      <td>3.0</td>\n",
       "      <td>5.2</td>\n",
       "      <td>2.0</td>\n",
       "      <td>3</td>\n",
       "    </tr>\n",
       "    <tr>\n",
       "      <td>148</td>\n",
       "      <td>149</td>\n",
       "      <td>6.2</td>\n",
       "      <td>3.4</td>\n",
       "      <td>5.4</td>\n",
       "      <td>2.3</td>\n",
       "      <td>3</td>\n",
       "    </tr>\n",
       "    <tr>\n",
       "      <td>149</td>\n",
       "      <td>150</td>\n",
       "      <td>5.9</td>\n",
       "      <td>3.0</td>\n",
       "      <td>5.1</td>\n",
       "      <td>1.8</td>\n",
       "      <td>3</td>\n",
       "    </tr>\n",
       "  </tbody>\n",
       "</table>\n",
       "<p>150 rows × 6 columns</p>\n",
       "</div>"
      ],
      "text/plain": [
       "      Id  SepalLengthCm  SepalWidthCm  PetalLengthCm  PetalWidthCm  Species\n",
       "0      1            5.1           3.5            1.4           0.2        2\n",
       "1      2            4.9           3.0            1.4           0.2        2\n",
       "2      3            4.7           3.2            1.3           0.2        2\n",
       "3      4            4.6           3.1            1.5           0.2        2\n",
       "4      5            5.0           3.6            1.4           0.2        2\n",
       "..   ...            ...           ...            ...           ...      ...\n",
       "145  146            6.7           3.0            5.2           2.3        3\n",
       "146  147            6.3           2.5            5.0           1.9        3\n",
       "147  148            6.5           3.0            5.2           2.0        3\n",
       "148  149            6.2           3.4            5.4           2.3        3\n",
       "149  150            5.9           3.0            5.1           1.8        3\n",
       "\n",
       "[150 rows x 6 columns]"
      ]
     },
     "execution_count": 8,
     "metadata": {},
     "output_type": "execute_result"
    }
   ],
   "source": [
    "data"
   ]
  },
  {
   "cell_type": "code",
   "execution_count": 9,
   "metadata": {},
   "outputs": [
    {
     "data": {
      "text/html": [
       "<div>\n",
       "<style scoped>\n",
       "    .dataframe tbody tr th:only-of-type {\n",
       "        vertical-align: middle;\n",
       "    }\n",
       "\n",
       "    .dataframe tbody tr th {\n",
       "        vertical-align: top;\n",
       "    }\n",
       "\n",
       "    .dataframe thead th {\n",
       "        text-align: right;\n",
       "    }\n",
       "</style>\n",
       "<table border=\"1\" class=\"dataframe\">\n",
       "  <thead>\n",
       "    <tr style=\"text-align: right;\">\n",
       "      <th></th>\n",
       "      <th>SepalLengthCm</th>\n",
       "      <th>SepalWidthCm</th>\n",
       "      <th>PetalLengthCm</th>\n",
       "      <th>PetalWidthCm</th>\n",
       "      <th>Species</th>\n",
       "    </tr>\n",
       "  </thead>\n",
       "  <tbody>\n",
       "    <tr>\n",
       "      <td>0</td>\n",
       "      <td>5.1</td>\n",
       "      <td>3.5</td>\n",
       "      <td>1.4</td>\n",
       "      <td>0.2</td>\n",
       "      <td>2</td>\n",
       "    </tr>\n",
       "    <tr>\n",
       "      <td>1</td>\n",
       "      <td>4.9</td>\n",
       "      <td>3.0</td>\n",
       "      <td>1.4</td>\n",
       "      <td>0.2</td>\n",
       "      <td>2</td>\n",
       "    </tr>\n",
       "    <tr>\n",
       "      <td>2</td>\n",
       "      <td>4.7</td>\n",
       "      <td>3.2</td>\n",
       "      <td>1.3</td>\n",
       "      <td>0.2</td>\n",
       "      <td>2</td>\n",
       "    </tr>\n",
       "    <tr>\n",
       "      <td>3</td>\n",
       "      <td>4.6</td>\n",
       "      <td>3.1</td>\n",
       "      <td>1.5</td>\n",
       "      <td>0.2</td>\n",
       "      <td>2</td>\n",
       "    </tr>\n",
       "    <tr>\n",
       "      <td>4</td>\n",
       "      <td>5.0</td>\n",
       "      <td>3.6</td>\n",
       "      <td>1.4</td>\n",
       "      <td>0.2</td>\n",
       "      <td>2</td>\n",
       "    </tr>\n",
       "    <tr>\n",
       "      <td>...</td>\n",
       "      <td>...</td>\n",
       "      <td>...</td>\n",
       "      <td>...</td>\n",
       "      <td>...</td>\n",
       "      <td>...</td>\n",
       "    </tr>\n",
       "    <tr>\n",
       "      <td>145</td>\n",
       "      <td>6.7</td>\n",
       "      <td>3.0</td>\n",
       "      <td>5.2</td>\n",
       "      <td>2.3</td>\n",
       "      <td>3</td>\n",
       "    </tr>\n",
       "    <tr>\n",
       "      <td>146</td>\n",
       "      <td>6.3</td>\n",
       "      <td>2.5</td>\n",
       "      <td>5.0</td>\n",
       "      <td>1.9</td>\n",
       "      <td>3</td>\n",
       "    </tr>\n",
       "    <tr>\n",
       "      <td>147</td>\n",
       "      <td>6.5</td>\n",
       "      <td>3.0</td>\n",
       "      <td>5.2</td>\n",
       "      <td>2.0</td>\n",
       "      <td>3</td>\n",
       "    </tr>\n",
       "    <tr>\n",
       "      <td>148</td>\n",
       "      <td>6.2</td>\n",
       "      <td>3.4</td>\n",
       "      <td>5.4</td>\n",
       "      <td>2.3</td>\n",
       "      <td>3</td>\n",
       "    </tr>\n",
       "    <tr>\n",
       "      <td>149</td>\n",
       "      <td>5.9</td>\n",
       "      <td>3.0</td>\n",
       "      <td>5.1</td>\n",
       "      <td>1.8</td>\n",
       "      <td>3</td>\n",
       "    </tr>\n",
       "  </tbody>\n",
       "</table>\n",
       "<p>150 rows × 5 columns</p>\n",
       "</div>"
      ],
      "text/plain": [
       "     SepalLengthCm  SepalWidthCm  PetalLengthCm  PetalWidthCm  Species\n",
       "0              5.1           3.5            1.4           0.2        2\n",
       "1              4.9           3.0            1.4           0.2        2\n",
       "2              4.7           3.2            1.3           0.2        2\n",
       "3              4.6           3.1            1.5           0.2        2\n",
       "4              5.0           3.6            1.4           0.2        2\n",
       "..             ...           ...            ...           ...      ...\n",
       "145            6.7           3.0            5.2           2.3        3\n",
       "146            6.3           2.5            5.0           1.9        3\n",
       "147            6.5           3.0            5.2           2.0        3\n",
       "148            6.2           3.4            5.4           2.3        3\n",
       "149            5.9           3.0            5.1           1.8        3\n",
       "\n",
       "[150 rows x 5 columns]"
      ]
     },
     "execution_count": 9,
     "metadata": {},
     "output_type": "execute_result"
    }
   ],
   "source": [
    "data = data.drop('Id', axis = 1)\n",
    "data"
   ]
  },
  {
   "cell_type": "code",
   "execution_count": 10,
   "metadata": {},
   "outputs": [
    {
     "data": {
      "text/plain": [
       "SepalLengthCm    0.685694\n",
       "SepalWidthCm     0.188004\n",
       "PetalLengthCm    3.113179\n",
       "PetalWidthCm     0.582414\n",
       "Species          0.671141\n",
       "dtype: float64"
      ]
     },
     "execution_count": 10,
     "metadata": {},
     "output_type": "execute_result"
    }
   ],
   "source": [
    "data.var()"
   ]
  },
  {
   "cell_type": "code",
   "execution_count": 11,
   "metadata": {},
   "outputs": [
    {
     "data": {
      "text/html": [
       "<div>\n",
       "<style scoped>\n",
       "    .dataframe tbody tr th:only-of-type {\n",
       "        vertical-align: middle;\n",
       "    }\n",
       "\n",
       "    .dataframe tbody tr th {\n",
       "        vertical-align: top;\n",
       "    }\n",
       "\n",
       "    .dataframe thead th {\n",
       "        text-align: right;\n",
       "    }\n",
       "</style>\n",
       "<table border=\"1\" class=\"dataframe\">\n",
       "  <thead>\n",
       "    <tr style=\"text-align: right;\">\n",
       "      <th></th>\n",
       "      <th>SepalLengthCm</th>\n",
       "      <th>SepalWidthCm</th>\n",
       "      <th>PetalLengthCm</th>\n",
       "      <th>PetalWidthCm</th>\n",
       "      <th>Species</th>\n",
       "    </tr>\n",
       "  </thead>\n",
       "  <tbody>\n",
       "    <tr>\n",
       "      <td>SepalLengthCm</td>\n",
       "      <td>1.000000</td>\n",
       "      <td>-0.109369</td>\n",
       "      <td>0.871754</td>\n",
       "      <td>0.817954</td>\n",
       "      <td>0.322522</td>\n",
       "    </tr>\n",
       "    <tr>\n",
       "      <td>SepalWidthCm</td>\n",
       "      <td>-0.109369</td>\n",
       "      <td>1.000000</td>\n",
       "      <td>-0.420516</td>\n",
       "      <td>-0.356544</td>\n",
       "      <td>0.192719</td>\n",
       "    </tr>\n",
       "    <tr>\n",
       "      <td>PetalLengthCm</td>\n",
       "      <td>0.871754</td>\n",
       "      <td>-0.420516</td>\n",
       "      <td>1.000000</td>\n",
       "      <td>0.962757</td>\n",
       "      <td>0.299942</td>\n",
       "    </tr>\n",
       "    <tr>\n",
       "      <td>PetalWidthCm</td>\n",
       "      <td>0.817954</td>\n",
       "      <td>-0.356544</td>\n",
       "      <td>0.962757</td>\n",
       "      <td>1.000000</td>\n",
       "      <td>0.375715</td>\n",
       "    </tr>\n",
       "    <tr>\n",
       "      <td>Species</td>\n",
       "      <td>0.322522</td>\n",
       "      <td>0.192719</td>\n",
       "      <td>0.299942</td>\n",
       "      <td>0.375715</td>\n",
       "      <td>1.000000</td>\n",
       "    </tr>\n",
       "  </tbody>\n",
       "</table>\n",
       "</div>"
      ],
      "text/plain": [
       "               SepalLengthCm  SepalWidthCm  PetalLengthCm  PetalWidthCm  \\\n",
       "SepalLengthCm       1.000000     -0.109369       0.871754      0.817954   \n",
       "SepalWidthCm       -0.109369      1.000000      -0.420516     -0.356544   \n",
       "PetalLengthCm       0.871754     -0.420516       1.000000      0.962757   \n",
       "PetalWidthCm        0.817954     -0.356544       0.962757      1.000000   \n",
       "Species             0.322522      0.192719       0.299942      0.375715   \n",
       "\n",
       "                Species  \n",
       "SepalLengthCm  0.322522  \n",
       "SepalWidthCm   0.192719  \n",
       "PetalLengthCm  0.299942  \n",
       "PetalWidthCm   0.375715  \n",
       "Species        1.000000  "
      ]
     },
     "execution_count": 11,
     "metadata": {},
     "output_type": "execute_result"
    }
   ],
   "source": [
    "data.corr()"
   ]
  },
  {
   "cell_type": "code",
   "execution_count": 12,
   "metadata": {},
   "outputs": [
    {
     "data": {
      "text/plain": [
       "<matplotlib.axes._subplots.AxesSubplot at 0x22352428848>"
      ]
     },
     "execution_count": 12,
     "metadata": {},
     "output_type": "execute_result"
    }
   ],
   "source": [
    "import seaborn as sns\n",
    "sns.heatmap(data.corr())"
   ]
  },
  {
   "cell_type": "code",
   "execution_count": 13,
   "metadata": {},
   "outputs": [],
   "source": [
    "X = data.drop('Species', axis = 1)\n",
    "y= data.Species"
   ]
  },
  {
   "cell_type": "code",
   "execution_count": 14,
   "metadata": {},
   "outputs": [
    {
     "data": {
      "text/plain": [
       "((150, 4), (150,))"
      ]
     },
     "execution_count": 14,
     "metadata": {},
     "output_type": "execute_result"
    }
   ],
   "source": [
    "X.shape, y.shape"
   ]
  },
  {
   "cell_type": "code",
   "execution_count": 15,
   "metadata": {},
   "outputs": [],
   "source": [
    "from sklearn.model_selection import train_test_split"
   ]
  },
  {
   "cell_type": "code",
   "execution_count": 16,
   "metadata": {},
   "outputs": [],
   "source": [
    "X_train,X_test, y_train, y_test = train_test_split(X,y, train_size = 0.8, random_state = 1)"
   ]
  },
  {
   "cell_type": "code",
   "execution_count": 17,
   "metadata": {},
   "outputs": [
    {
     "name": "stderr",
     "output_type": "stream",
     "text": [
      "C:\\Users\\DELL\\Anaconda3\\lib\\site-packages\\sklearn\\ensemble\\forest.py:245: FutureWarning: The default value of n_estimators will change from 10 in version 0.20 to 100 in 0.22.\n",
      "  \"10 in version 0.20 to 100 in 0.22.\", FutureWarning)\n"
     ]
    },
    {
     "data": {
      "text/plain": [
       "RandomForestRegressor(bootstrap=True, criterion='mse', max_depth=None,\n",
       "                      max_features='auto', max_leaf_nodes=None,\n",
       "                      min_impurity_decrease=0.0, min_impurity_split=None,\n",
       "                      min_samples_leaf=1, min_samples_split=2,\n",
       "                      min_weight_fraction_leaf=0.0, n_estimators=10,\n",
       "                      n_jobs=None, oob_score=False, random_state=None,\n",
       "                      verbose=0, warm_start=False)"
      ]
     },
     "execution_count": 17,
     "metadata": {},
     "output_type": "execute_result"
    }
   ],
   "source": [
    "from sklearn.ensemble import RandomForestRegressor\n",
    "model = RandomForestRegressor()\n",
    "model.fit(X_train, y_train)"
   ]
  },
  {
   "cell_type": "code",
   "execution_count": 18,
   "metadata": {},
   "outputs": [],
   "source": [
    "import matplotlib.pyplot as plt"
   ]
  },
  {
   "cell_type": "code",
   "execution_count": 19,
   "metadata": {},
   "outputs": [
    {
     "data": {
      "image/png": "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\n",
      "text/plain": [
       "<Figure size 432x288 with 1 Axes>"
      ]
     },
     "metadata": {
      "needs_background": "light"
     },
     "output_type": "display_data"
    }
   ],
   "source": [
    "features = data.columns\n",
    "importances = model.feature_importances_\n",
    "plt.title('Feature Importances')\n",
    "indices = np.argsort(importances)\n",
    "plt.barh(range(len(indices)), importances[indices], color='b', align='center')\n",
    "plt.yticks(range(len(indices)), [features[i] for i in indices])\n",
    "plt.xlabel('Relative Importance')\n",
    "plt.grid()\n",
    "plt.show()"
   ]
  },
  {
   "cell_type": "code",
   "execution_count": 20,
   "metadata": {},
   "outputs": [
    {
     "data": {
      "text/plain": [
       "array([0.03338142, 0.04985406, 0.51554628, 0.40121824])"
      ]
     },
     "execution_count": 20,
     "metadata": {},
     "output_type": "execute_result"
    }
   ],
   "source": [
    "importances"
   ]
  },
  {
   "cell_type": "code",
   "execution_count": 21,
   "metadata": {},
   "outputs": [],
   "source": [
    "from sklearn.feature_selection import RFE\n",
    "rfe = RFE(model, 4)\n",
    "rfe = rfe.fit_transform(X,y)"
   ]
  },
  {
   "cell_type": "code",
   "execution_count": 27,
   "metadata": {},
   "outputs": [
    {
     "ename": "AttributeError",
     "evalue": "'numpy.ndarray' object has no attribute 'support_'",
     "output_type": "error",
     "traceback": [
      "\u001b[1;31m---------------------------------------------------------------------------\u001b[0m",
      "\u001b[1;31mAttributeError\u001b[0m                            Traceback (most recent call last)",
      "\u001b[1;32m<ipython-input-27-31c774d00a82>\u001b[0m in \u001b[0;36m<module>\u001b[1;34m\u001b[0m\n\u001b[1;32m----> 1\u001b[1;33m \u001b[0mprint\u001b[0m\u001b[1;33m(\u001b[0m\u001b[0mrfe\u001b[0m\u001b[1;33m.\u001b[0m\u001b[0msupport_\u001b[0m\u001b[1;33m)\u001b[0m\u001b[1;33m\u001b[0m\u001b[1;33m\u001b[0m\u001b[0m\n\u001b[0m\u001b[0;32m      2\u001b[0m \u001b[0mprint\u001b[0m\u001b[1;33m(\u001b[0m\u001b[0mrfe\u001b[0m\u001b[1;33m.\u001b[0m\u001b[0mranking_\u001b[0m\u001b[1;33m)\u001b[0m\u001b[1;33m\u001b[0m\u001b[1;33m\u001b[0m\u001b[0m\n",
      "\u001b[1;31mAttributeError\u001b[0m: 'numpy.ndarray' object has no attribute 'support_'"
     ]
    }
   ],
   "source": [
    "print(rfe.support_)\n",
    "print(rfe.ranking_)"
   ]
  },
  {
   "cell_type": "code",
   "execution_count": 48,
   "metadata": {},
   "outputs": [
    {
     "name": "stdout",
     "output_type": "stream",
     "text": [
      "[ True False  True  True]\n",
      "[1 2 1 1]\n"
     ]
    }
   ],
   "source": [
    "\n",
    "from sklearn import datasets\n",
    "dataset = datasets.load_iris()\n",
    "# create the RFE model for the svm classifier \n",
    "# and select attributes\n",
    "rfe = RFE(model, 3)\n",
    "fit = rfe.fit(dataset.data, dataset.target)\n",
    "# print summaries for the selection of attributes\n",
    "print(rfe.support_)\n",
    "print(rfe.ranking_)"
   ]
  },
  {
   "cell_type": "code",
   "execution_count": 49,
   "metadata": {},
   "outputs": [
    {
     "name": "stdout",
     "output_type": "stream",
     "text": [
      "Num Features: 3\n",
      "Selected Features: [ True False  True  True]\n",
      "Feature Ranking: [1 2 1 1]\n"
     ]
    }
   ],
   "source": [
    "print(\"Num Features: %d\" % fit.n_features_)\n",
    "print(\"Selected Features: %s\" % fit.support_)\n",
    "print(\"Feature Ranking: %s\" % fit.ranking_)"
   ]
  },
  {
   "cell_type": "raw",
   "metadata": {},
   "source": [
    "from numpy import mean, std\n",
    "from sklearn.model_selection import cross_val_score\n",
    "from sklearn.model_selection import RepeatedStratifiedKFold\n",
    "\n",
    "# evaluate model\n",
    "cv = RepeatedStratifiedKFold(n_splits=10, n_repeats=3, random_state=1)\n",
    "n_scores = cross_val_score(pipeline, X, y, scoring='accuracy', cv=cv, n_jobs=-1, error_score='raise')\n",
    "# report performance\n",
    "print('Accuracy: %.3f (%.3f)' % (mean(n_scores), std(n_scores)))"
   ]
  },
  {
   "cell_type": "code",
   "execution_count": 43,
   "metadata": {},
   "outputs": [
    {
     "data": {
      "text/plain": [
       "Index(['SepalLengthCm', 'SepalWidthCm', 'PetalLengthCm', 'PetalWidthCm',\n",
       "       'Species'],\n",
       "      dtype='object')"
      ]
     },
     "execution_count": 43,
     "metadata": {},
     "output_type": "execute_result"
    }
   ],
   "source": [
    "features = data.columns\n",
    "features"
   ]
  },
  {
   "cell_type": "code",
   "execution_count": null,
   "metadata": {},
   "outputs": [],
   "source": []
  },
  {
   "cell_type": "code",
   "execution_count": 38,
   "metadata": {},
   "outputs": [],
   "source": [
    "# Import f_classif from Scikit-learn\n",
    "from sklearn.feature_selection import f_classif\n",
    "f_value = f_classif(X, y)"
   ]
  },
  {
   "cell_type": "code",
   "execution_count": 44,
   "metadata": {},
   "outputs": [
    {
     "name": "stdout",
     "output_type": "stream",
     "text": [
      "('SepalLengthCm', 119.26450218449871)\n",
      "('SepalWidthCm', 47.364461402993975)\n",
      "('PetalLengthCm', 1179.0343277002278)\n",
      "('PetalWidthCm', 959.3244057257541)\n"
     ]
    }
   ],
   "source": [
    "# Print the name and F-value of each feature\n",
    "for feature in zip(features, f_value[0]):\n",
    "    print(feature)"
   ]
  },
  {
   "cell_type": "raw",
   "metadata": {},
   "source": [
    "# Create a bar chart for visualizing the F-values\n",
    "plt.figure(figsize=(4,4))\n",
    "plt.bar(x=features, height=f_value, color='tomato')\n",
    "plt.xticks(rotation='vertical')\n",
    "plt.ylabel('F-value')\n",
    "plt.title('F-value Comparison')\n",
    "plt.show()"
   ]
  },
  {
   "cell_type": "code",
   "execution_count": null,
   "metadata": {},
   "outputs": [],
   "source": []
  },
  {
   "cell_type": "code",
   "execution_count": null,
   "metadata": {},
   "outputs": [],
   "source": []
  },
  {
   "cell_type": "code",
   "execution_count": 50,
   "metadata": {
    "scrolled": true
   },
   "outputs": [
    {
     "name": "stdout",
     "output_type": "stream",
     "text": [
      "Explained Variance: [0.92461621 0.05301557 0.01718514]\n",
      "[[ 0.36158968 -0.08226889  0.85657211  0.35884393]\n",
      " [ 0.65653988  0.72971237 -0.1757674  -0.07470647]\n",
      " [-0.58099728  0.59641809  0.07252408  0.54906091]]\n"
     ]
    }
   ],
   "source": [
    "from sklearn.decomposition import PCA\n",
    "\n",
    "# feature extraction\n",
    "pca = PCA(n_components=3)\n",
    "fit = pca.fit(X)\n",
    "# summarize components\n",
    "print(\"Explained Variance: %s\" % fit.explained_variance_ratio_)\n",
    "print(fit.components_)"
   ]
  },
  {
   "cell_type": "code",
   "execution_count": null,
   "metadata": {},
   "outputs": [],
   "source": []
  },
  {
   "cell_type": "code",
   "execution_count": null,
   "metadata": {},
   "outputs": [],
   "source": []
  },
  {
   "cell_type": "code",
   "execution_count": null,
   "metadata": {},
   "outputs": [],
   "source": []
  },
  {
   "cell_type": "code",
   "execution_count": null,
   "metadata": {},
   "outputs": [],
   "source": []
  },
  {
   "cell_type": "code",
   "execution_count": 51,
   "metadata": {},
   "outputs": [],
   "source": [
    "from numpy import set_printoptions\n",
    "from sklearn.feature_selection import SelectKBest\n",
    "from sklearn.feature_selection import f_classif"
   ]
  },
  {
   "cell_type": "code",
   "execution_count": 53,
   "metadata": {},
   "outputs": [
    {
     "name": "stdout",
     "output_type": "stream",
     "text": [
      "[ 119.265   47.364 1179.034  959.324]\n",
      "[[5.1 3.5 1.4 0.2]\n",
      " [4.9 3.  1.4 0.2]\n",
      " [4.7 3.2 1.3 0.2]\n",
      " [4.6 3.1 1.5 0.2]\n",
      " [5.  3.6 1.4 0.2]]\n"
     ]
    }
   ],
   "source": [
    "# feature extraction\n",
    "test = SelectKBest(score_func=f_classif, k=4)\n",
    "fit = test.fit(X, y)\n",
    "# summarize scores\n",
    "set_printoptions(precision=3)\n",
    "print(fit.scores_)\n",
    "features = fit.transform(X)\n",
    "# summarize selected features\n",
    "print(features[0:5,:])"
   ]
  },
  {
   "cell_type": "code",
   "execution_count": null,
   "metadata": {},
   "outputs": [],
   "source": []
  },
  {
   "cell_type": "code",
   "execution_count": null,
   "metadata": {},
   "outputs": [],
   "source": []
  },
  {
   "cell_type": "code",
   "execution_count": null,
   "metadata": {},
   "outputs": [],
   "source": []
  },
  {
   "cell_type": "code",
   "execution_count": null,
   "metadata": {},
   "outputs": [],
   "source": []
  },
  {
   "cell_type": "code",
   "execution_count": null,
   "metadata": {},
   "outputs": [],
   "source": []
  },
  {
   "cell_type": "code",
   "execution_count": 31,
   "metadata": {},
   "outputs": [
    {
     "name": "stdout",
     "output_type": "stream",
     "text": [
      "[0.04159462 0.03119751 0.39512622 0.53208165]\n"
     ]
    },
    {
     "name": "stderr",
     "output_type": "stream",
     "text": [
      "C:\\Users\\DELL\\Anaconda3\\lib\\site-packages\\sklearn\\ensemble\\forest.py:245: FutureWarning: The default value of n_estimators will change from 10 in version 0.20 to 100 in 0.22.\n",
      "  \"10 in version 0.20 to 100 in 0.22.\", FutureWarning)\n"
     ]
    }
   ],
   "source": [
    "from sklearn.ensemble import ExtraTreesClassifier\n",
    "model = ExtraTreesClassifier()\n",
    "model.fit(X,y)\n",
    "print(model.feature_importances_)"
   ]
  },
  {
   "cell_type": "code",
   "execution_count": 32,
   "metadata": {},
   "outputs": [
    {
     "data": {
      "image/png": "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\n",
      "text/plain": [
       "<Figure size 432x288 with 1 Axes>"
      ]
     },
     "metadata": {
      "needs_background": "light"
     },
     "output_type": "display_data"
    }
   ],
   "source": [
    "feat_importance = pd.Series(model.feature_importances_)\n",
    "feat_importance.plot(kind = 'barh')\n",
    "plt.yticks(range(len(indices)), [features[i] for i in indices])\n",
    "plt.show()"
   ]
  },
  {
   "cell_type": "code",
   "execution_count": 33,
   "metadata": {},
   "outputs": [
    {
     "name": "stderr",
     "output_type": "stream",
     "text": [
      "[Parallel(n_jobs=1)]: Using backend SequentialBackend with 1 concurrent workers.\n",
      "[Parallel(n_jobs=1)]: Done   1 out of   1 | elapsed:    0.0s remaining:    0.0s\n",
      "[Parallel(n_jobs=1)]: Done   4 out of   4 | elapsed:    0.2s finished\n",
      "\n",
      "[2021-04-20 19:04:05] Features: 1/3 -- score: -0.18666666666666668[Parallel(n_jobs=1)]: Using backend SequentialBackend with 1 concurrent workers.\n",
      "[Parallel(n_jobs=1)]: Done   1 out of   1 | elapsed:    0.0s remaining:    0.0s\n",
      "[Parallel(n_jobs=1)]: Done   3 out of   3 | elapsed:    0.0s finished\n",
      "\n",
      "[2021-04-20 19:04:05] Features: 2/3 -- score: -0.13333333333333336[Parallel(n_jobs=1)]: Using backend SequentialBackend with 1 concurrent workers.\n",
      "[Parallel(n_jobs=1)]: Done   1 out of   1 | elapsed:    0.0s remaining:    0.0s\n",
      "[Parallel(n_jobs=1)]: Done   2 out of   2 | elapsed:    0.0s finished\n",
      "\n",
      "[2021-04-20 19:04:06] Features: 3/3 -- score: -0.16"
     ]
    }
   ],
   "source": [
    "from mlxtend.feature_selection import SequentialFeatureSelector as sfs\n",
    "sfs1 = sfs(model, k_features=3, forward=True, verbose=2, scoring='neg_mean_squared_error')\n",
    "sfs1 = sfs1.fit(X, y)"
   ]
  },
  {
   "cell_type": "code",
   "execution_count": 34,
   "metadata": {},
   "outputs": [
    {
     "name": "stdout",
     "output_type": "stream",
     "text": [
      "['SepalWidthCm', 'PetalLengthCm', 'PetalWidthCm']\n"
     ]
    }
   ],
   "source": [
    "feat_names = list(sfs1.k_feature_names_)\n",
    "print(feat_names)"
   ]
  },
  {
   "cell_type": "code",
   "execution_count": 35,
   "metadata": {},
   "outputs": [
    {
     "name": "stderr",
     "output_type": "stream",
     "text": [
      "[Parallel(n_jobs=1)]: Using backend SequentialBackend with 1 concurrent workers.\n",
      "[Parallel(n_jobs=1)]: Done   1 out of   1 | elapsed:    0.0s remaining:    0.0s\n",
      "[Parallel(n_jobs=1)]: Done   4 out of   4 | elapsed:    0.2s finished\n",
      "\n",
      "[2021-04-20 19:04:13] Features: 1/3 -- score: -0.18666666666666668[Parallel(n_jobs=1)]: Using backend SequentialBackend with 1 concurrent workers.\n",
      "[Parallel(n_jobs=1)]: Done   1 out of   1 | elapsed:    0.0s remaining:    0.0s\n",
      "[Parallel(n_jobs=1)]: Done   3 out of   3 | elapsed:    0.0s finished\n",
      "\n",
      "[2021-04-20 19:04:13] Features: 2/3 -- score: -0.16[Parallel(n_jobs=1)]: Using backend SequentialBackend with 1 concurrent workers.\n",
      "[Parallel(n_jobs=1)]: Done   1 out of   1 | elapsed:    0.0s remaining:    0.0s\n",
      "[Parallel(n_jobs=1)]: Done   2 out of   2 | elapsed:    0.0s finished\n",
      "\n",
      "[2021-04-20 19:04:13] Features: 3/3 -- score: -0.13333333333333336"
     ]
    }
   ],
   "source": [
    "sfs2 = sfs(model, k_features=3, forward=False, verbose=2, scoring='neg_mean_squared_error')\n",
    "sfs2 = sfs1.fit(X, y)"
   ]
  },
  {
   "cell_type": "code",
   "execution_count": 36,
   "metadata": {},
   "outputs": [
    {
     "name": "stdout",
     "output_type": "stream",
     "text": [
      "['SepalWidthCm', 'PetalLengthCm', 'PetalWidthCm']\n"
     ]
    }
   ],
   "source": [
    "feat_names = list(sfs2.k_feature_names_)\n",
    "print(feat_names)"
   ]
  },
  {
   "cell_type": "code",
   "execution_count": null,
   "metadata": {},
   "outputs": [],
   "source": []
  },
  {
   "cell_type": "code",
   "execution_count": null,
   "metadata": {},
   "outputs": [],
   "source": []
  },
  {
   "cell_type": "code",
   "execution_count": null,
   "metadata": {},
   "outputs": [],
   "source": []
  }
 ],
 "metadata": {
  "kernelspec": {
   "display_name": "Python 3",
   "language": "python",
   "name": "python3"
  },
  "language_info": {
   "codemirror_mode": {
    "name": "ipython",
    "version": 3
   },
   "file_extension": ".py",
   "mimetype": "text/x-python",
   "name": "python",
   "nbconvert_exporter": "python",
   "pygments_lexer": "ipython3",
   "version": "3.7.4"
  }
 },
 "nbformat": 4,
 "nbformat_minor": 2
}
